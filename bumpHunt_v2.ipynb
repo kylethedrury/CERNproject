{
 "cells": [
  {
   "cell_type": "code",
   "execution_count": 71,
   "metadata": {},
   "outputs": [],
   "source": [
    "# Importing packages.\n",
    "\n",
    "import math as math\n",
    "import numpy as np\n",
    "import matplotlib.pyplot as plt"
   ]
  },
  {
   "cell_type": "code",
   "execution_count": 151,
   "metadata": {},
   "outputs": [
    {
     "name": "stdout",
     "output_type": "stream",
     "text": [
      "500\n"
     ]
    }
   ],
   "source": [
    "# Read the LHE lines.\n",
    "\n",
    "gg_file = open('gg_cross(5Ms).txt', 'r')\n",
    "gq_file = open('gq_cross(5Ms).txt', 'r')\n",
    "\n",
    "gg_lines = gg_file.readlines()\n",
    "gq_lines = gq_file.readlines()\n",
    "\n",
    "gg_file.close()\n",
    "gq_file.close()\n",
    "\n",
    "print(len(gg_lines))"
   ]
  },
  {
   "cell_type": "code",
   "execution_count": 152,
   "metadata": {},
   "outputs": [
    {
     "name": "stdout",
     "output_type": "stream",
     "text": [
      "0.00047641551452061876\n"
     ]
    }
   ],
   "source": [
    "# Make array with gg_cross.txt.\n",
    "\n",
    "gg_cross = []\n",
    "\n",
    "i = 0    # counter\n",
    "\n",
    "for line in enumerate(gg_lines):\n",
    "    gg_cross.append(line[1])\n",
    "    gg_cross[i] = float(gg_cross[i])\n",
    "    i = i + 1\n",
    "    \n",
    "print(gg_cross[0])"
   ]
  },
  {
   "cell_type": "code",
   "execution_count": 153,
   "metadata": {},
   "outputs": [
    {
     "name": "stdout",
     "output_type": "stream",
     "text": [
      "0.00047641551452061876\n"
     ]
    }
   ],
   "source": [
    "# Make array with gq_cross.txt\n",
    "\n",
    "spaces = []       # where the spaces are in each line.       \n",
    "first, second, third, fourth, fifth, sixth = [], [], [], [], [], []         # the cross section for each quark flavour.\n",
    "\n",
    "gq_cross = []\n",
    "\n",
    "for line in enumerate(gq_lines):\n",
    "\n",
    "    for i in range(len(line[1])):\n",
    "\n",
    "        if line[1][i] == ' ':\n",
    "\n",
    "            spaces.append(i)\n",
    "        \n",
    "i = 0                # counter\n",
    "\n",
    "while i < (len(spaces)): \n",
    "    \n",
    "    first.append(spaces[i]) \n",
    "    second.append(spaces[i+1]) \n",
    "    third.append(spaces[i+2]) \n",
    "    fourth.append(spaces[i+3]) \n",
    "    fifth.append(spaces[i+4]) \n",
    "    sixth.append(spaces[i+5]) \n",
    "    \n",
    "    i = i + 6\n",
    "\n",
    "q1, q2, q3, q4, q5 = [], [], [], [], []\n",
    "\n",
    "i = 0                # counter\n",
    "\n",
    "for line in enumerate(gq_lines): \n",
    "    \n",
    "    q1.append(line[1][0 : first[i]])\n",
    "    q1[i] = float(q1[i])\n",
    "    \n",
    "    q2.append(line[1][first[i]+1 : second[i]])\n",
    "    q2[i] = float(q2[i])\n",
    "    \n",
    "    q3.append(line[1][second[i]+1 : third[i]])\n",
    "    q3[i] = float(q3[i])\n",
    "    \n",
    "    q4.append(line[1][third[i]+1 : fourth[i]])\n",
    "    q4[i] = float(q4[i])\n",
    "    \n",
    "    q5.append(line[1][fourth[i]+1 : fifth[i]])\n",
    "    q5[i] = float(q5[i])\n",
    " \n",
    "    gq_cross.append(q1[i] + q2[i] + q3[i] + q4[i] + q5[i])\n",
    "\n",
    "    i = i + 1\n",
    "    \n",
    "print(gg_cross[0])"
   ]
  },
  {
   "cell_type": "code",
   "execution_count": 154,
   "metadata": {},
   "outputs": [],
   "source": [
    "# Make the total array\n",
    "\n",
    "total = []\n",
    "\n",
    "for i in range(len(gg_cross)):\n",
    "    total.append(gg_cross[i] + gq_cross[i])"
   ]
  },
  {
   "cell_type": "code",
   "execution_count": 159,
   "metadata": {},
   "outputs": [
    {
     "name": "stdout",
     "output_type": "stream",
     "text": [
      "0.00047641551452061876\n"
     ]
    }
   ],
   "source": [
    "# Make the invariant mass array.\n",
    "\n",
    "M = 2500             # lower limit on invariant mass interval\n",
    "invariant_Mass = []\n",
    "\n",
    "for i in range(len(gg_lines)):\n",
    "    invariant_Mass.append(M)\n",
    "    M = M + 10\n",
    "    \n",
    "print(gg_cross[0])"
   ]
  },
  {
   "cell_type": "code",
   "execution_count": 160,
   "metadata": {},
   "outputs": [
    {
     "name": "stdout",
     "output_type": "stream",
     "text": [
      "0.00047641551452061876\n"
     ]
    }
   ],
   "source": [
    "# Convert to TeV.\n",
    "\n",
    "for i in range(len(invariant_Mass)):\n",
    "    invariant_Mass[i] = invariant_Mass[i]\n",
    "    gg_cross[i] = gg_cross[i]\n",
    "    gq_cross[i] = gq_cross[i]\n",
    "    total[i] = total[i]\n",
    "    \n",
    "print(gg_cross[0])"
   ]
  },
  {
   "cell_type": "code",
   "execution_count": 167,
   "metadata": {},
   "outputs": [
    {
     "data": {
      "image/png": "[encoded data removed]",
      "text/plain": [
       "<Figure size 432x288 with 1 Axes>"
      ]
     },
     "metadata": {
      "needs_background": "light"
     },
     "output_type": "display_data"
    }
   ],
   "source": [
    "fig, ax = plt.subplots()\n",
    "plt.xlim(2500, invariant_Mass[len(invariant_Mass)-1])\n",
    "plt.ylim(1e-7, 1e-2)\n",
    "ax.set_yscale('log')\n",
    "\n",
    "plt.plot(invariant_Mass, gg_cross, label = 'gg', color = 'red')\n",
    "plt.plot(invariant_Mass, gq_cross, label = 'gq', color = 'blue')\n",
    "plt.plot(invariant_Mass, total, label = 'total', color = 'green')\n",
    "\n",
    "plt.xlabel('M (GeV)')\n",
    "plt.ylabel('d$\\sigma$/dM (fb/GeV)')\n",
    "plt.legend(loc='upper right')\n",
    "\n",
    "plt.grid(True, which='both', axis='y')\n",
    "plt.grid(True, which='both', axis='x')\n",
    "\n",
    "plt.text(3500, 1e-5, '$\\sqrt{s}$ = 14 TeV', fontsize=10, ha='center', va='center')\n",
    "plt.text(3500, 3e-6, '$\\kappa^2$ = 0.02', fontsize = 10, ha='center', va='center')\n",
    "plt.text(3500, 1e-6, '$M_{s}$ = 5 TeV', fontsize = 10, ha='center', va='center')\n",
    "\n",
    "plt.show()"
   ]
  },
  {
   "cell_type": "code",
   "execution_count": 150,
   "metadata": {},
   "outputs": [
    {
     "name": "stdout",
     "output_type": "stream",
     "text": [
      "0.00024761259494665143 3350\n"
     ]
    }
   ],
   "source": [
    "# Find the local minumim.\n",
    "\n",
    "a, b = 1, 1\n",
    "\n",
    "for i in range(300):\n",
    "    \n",
    "    if gg_cross[i] < a:\n",
    "        a = gg_cross[i] \n",
    "        b = i\n",
    "        \n",
    "print(a, invariant_Mass[b])"
   ]
  }
 ],
 "metadata": {
  "kernelspec": {
   "display_name": "Python 3",
   "language": "python",
   "name": "python3"
  },
  "language_info": {
   "codemirror_mode": {
    "name": "ipython",
    "version": 3
   },
   "file_extension": ".py",
   "mimetype": "text/x-python",
   "name": "python",
   "nbconvert_exporter": "python",
   "pygments_lexer": "ipython3",
   "version": "3.6.8"
  }
 },
 "nbformat": 4,
 "nbformat_minor": 2
}
