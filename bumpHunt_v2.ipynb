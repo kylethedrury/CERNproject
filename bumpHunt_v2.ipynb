{
 "cells": [
  {
   "cell_type": "code",
   "execution_count": 503,
   "metadata": {},
   "outputs": [],
   "source": [
    "# Importing packages.\n",
    "\n",
    "import math as math\n",
    "import numpy as np\n",
    "import matplotlib.pyplot as plt"
   ]
  },
  {
   "cell_type": "code",
   "execution_count": 560,
   "metadata": {},
   "outputs": [
    {
     "name": "stdout",
     "output_type": "stream",
     "text": [
      "422\n"
     ]
    }
   ],
   "source": [
    "# Read the LHE lines.\n",
    "\n",
    "gg_file = open('./CrossFiles/01ggcoupling.txt', 'r')\n",
    "gq_file = open('./CrossFiles/01gqcoupling.txt', 'r')\n",
    "\n",
    "gg_lines = gg_file.readlines()\n",
    "gq_lines = gq_file.readlines()\n",
    "\n",
    "gg_file.close()\n",
    "gq_file.close()\n",
    "\n",
    "print(len(gg_lines))"
   ]
  },
  {
   "cell_type": "code",
   "execution_count": 561,
   "metadata": {},
   "outputs": [
    {
     "name": "stdout",
     "output_type": "stream",
     "text": [
      "0.0007922723236981009\n"
     ]
    }
   ],
   "source": [
    "# Make array with gg_cross.txt.\n",
    "\n",
    "gg_cross = []\n",
    "\n",
    "i = 0    # counter\n",
    "\n",
    "for line in enumerate(gg_lines):\n",
    "    gg_cross.append(line[1])\n",
    "    gg_cross[i] = float(gg_cross[i])\n",
    "    i = i + 1\n",
    "    \n",
    "print(gg_cross[0])"
   ]
  },
  {
   "cell_type": "code",
   "execution_count": 562,
   "metadata": {},
   "outputs": [
    {
     "name": "stdout",
     "output_type": "stream",
     "text": [
      "0.0007922723236981009\n"
     ]
    }
   ],
   "source": [
    "# Make array with gq_cross.txt\n",
    "\n",
    "spaces = []       # where the spaces are in each line.       \n",
    "first, second, third, fourth, fifth, sixth = [], [], [], [], [], []         # the cross section for each quark flavour.\n",
    "\n",
    "gq_cross = []\n",
    "\n",
    "for line in enumerate(gq_lines):\n",
    "\n",
    "    for i in range(len(line[1])):\n",
    "\n",
    "        if line[1][i] == ' ':\n",
    "\n",
    "            spaces.append(i)\n",
    "        \n",
    "i = 0                # counter\n",
    "\n",
    "while i < (len(spaces)): \n",
    "    \n",
    "    first.append(spaces[i]) \n",
    "    second.append(spaces[i+1]) \n",
    "    third.append(spaces[i+2]) \n",
    "    fourth.append(spaces[i+3]) \n",
    "    fifth.append(spaces[i+4]) \n",
    "    sixth.append(spaces[i+5]) \n",
    "    \n",
    "    i = i + 6\n",
    "\n",
    "q1, q2, q3, q4, q5 = [], [], [], [], []\n",
    "\n",
    "i = 0                # counter\n",
    "\n",
    "for line in enumerate(gq_lines): \n",
    "    \n",
    "    q1.append(line[1][0 : first[i]])\n",
    "    q1[i] = float(q1[i])\n",
    "    \n",
    "    q2.append(line[1][first[i]+1 : second[i]])\n",
    "    q2[i] = float(q2[i])\n",
    "    \n",
    "    q3.append(line[1][second[i]+1 : third[i]])\n",
    "    q3[i] = float(q3[i])\n",
    "    \n",
    "    q4.append(line[1][third[i]+1 : fourth[i]])\n",
    "    q4[i] = float(q4[i])\n",
    "    \n",
    "    q5.append(line[1][fourth[i]+1 : fifth[i]])\n",
    "    q5[i] = float(q5[i])\n",
    " \n",
    "    gq_cross.append(q1[i] + q2[i] + q3[i] + q4[i] + q5[i])\n",
    "\n",
    "    i = i + 1\n",
    "    \n",
    "print(gg_cross[0])"
   ]
  },
  {
   "cell_type": "code",
   "execution_count": 563,
   "metadata": {},
   "outputs": [],
   "source": [
    "# Make the total array\n",
    "\n",
    "total = []\n",
    "\n",
    "for i in range(len(gg_cross)):\n",
    "    total.append(gg_cross[i] + gq_cross[i])"
   ]
  },
  {
   "cell_type": "code",
   "execution_count": 564,
   "metadata": {},
   "outputs": [],
   "source": [
    "# Make the invariant mass array.\n",
    "\n",
    "M = 2500             # lower limit on invariant mass interval\n",
    "invariant_Mass = []\n",
    "\n",
    "while M < 6720:\n",
    "    invariant_Mass.append(M)\n",
    "    M = M + 10"
   ]
  },
  {
   "cell_type": "code",
   "execution_count": 565,
   "metadata": {},
   "outputs": [
    {
     "name": "stdout",
     "output_type": "stream",
     "text": [
      "0.0007922723236981009\n"
     ]
    }
   ],
   "source": [
    "# Convert to TeV.\n",
    "\n",
    "for i in range(len(invariant_Mass)):\n",
    "    invariant_Mass[i] = invariant_Mass[i]\n",
    "    gg_cross[i] = gg_cross[i]\n",
    "    gq_cross[i] = gq_cross[i]\n",
    "    total[i] = total[i]\n",
    "    \n",
    "print(gg_cross[0])"
   ]
  },
  {
   "cell_type": "code",
   "execution_count": 566,
   "metadata": {},
   "outputs": [
    {
     "name": "stdout",
     "output_type": "stream",
     "text": [
      "422\n",
      "422\n"
     ]
    }
   ],
   "source": [
    "# Read-in comparison plot, and generate comparison points with the same x-coords \n",
    "\n",
    "df = np.genfromtxt('./CSVs/paperComparisonGood.csv', delimiter=',')\n",
    "df_x, df_y = [], []\n",
    "comparison_points = []\n",
    "\n",
    "for i in range(len(df)):\n",
    "    df_x.append(df[i][0])\n",
    "    df_y.append(df[i][1])\n",
    "\n",
    "for i in range(len(invariant_Mass)):\n",
    "    \n",
    "    for j in range(len(df_x)-1):\n",
    "        \n",
    "        if df_x[j] <= invariant_Mass[i] and df_x[j+1] > invariant_Mass[i]: \n",
    "            comparison_points.append( (df_y[j]/df_x[j])*(invariant_Mass[i]-df_x[j+1]) + df_y[j+1] )\n",
    "            break \n",
    "            \n",
    "# print(comparison_points)\n",
    "print(len(comparison_points))\n",
    "print(len(invariant_Mass))"
   ]
  },
  {
   "cell_type": "code",
   "execution_count": 569,
   "metadata": {},
   "outputs": [
    {
     "name": "stdout",
     "output_type": "stream",
     "text": [
      "422 422\n",
      "2.614018316486882e-07 1.4154807685269994e-07\n"
     ]
    },
    {
     "data": {
      "image/png": "[encoded data removed]",
      "text/plain": [
       "<Figure size 432x288 with 1 Axes>"
      ]
     },
     "metadata": {
      "needs_background": "light"
     },
     "output_type": "display_data"
    }
   ],
   "source": [
    "plt.switch_backend('agg')\n",
    "\n",
    "fig, ax = plt.subplots()\n",
    "plt.xlim(2500, invariant_Mass[len(invariant_Mass)-1])\n",
    "plt.ylim(1e-7, 1e-2)\n",
    "ax.set_yscale('log')\n",
    "\n",
    "plt.plot(invariant_Mass, gg_cross, label = 'gg', color = 'red')\n",
    "plt.plot(invariant_Mass, gq_cross, label = 'gq', color = 'blue')\n",
    "plt.plot(invariant_Mass, total, label = 'total', color = 'green')\n",
    "plt.plot(df_x, df_y, linewidth=6, color='pink', alpha=0.7, label = 'Anchordoqui')\n",
    "\n",
    "plt.xlabel('M (GeV)')\n",
    "plt.ylabel('d$\\sigma$/dM (fb/GeV)')\n",
    "plt.legend(loc='upper right')\n",
    "\n",
    "plt.grid(True, which='both', axis='y')\n",
    "plt.grid(True, which='both', axis='x')\n",
    "\n",
    "plt.text(3500, 1e-5, '$\\sqrt{s}$ = 14 TeV', fontsize=10, ha='center', va='center')\n",
    "plt.text(3500, 3e-6, '$\\kappa^2$ = 0.02', fontsize = 10, ha='center', va='center')\n",
    "plt.text(3500, 1e-6, '$M_{s}$ = 5 TeV', fontsize = 10, ha='center', va='center')\n",
    "\n",
    "plt.show()\n",
    "\n",
    "plt.savefig('coupling 0.1.pdf',dpi=100,bbox_inches='tight')\n",
    "print(len(total), len(comparison_points))\n",
    "print(total[419], comparison_points[419])"
   ]
  },
  {
   "cell_type": "code",
   "execution_count": 575,
   "metadata": {},
   "outputs": [
    {
     "data": {
      "text/plain": [
       "<Figure size 432x288 with 0 Axes>"
      ]
     },
     "metadata": {},
     "output_type": "display_data"
    }
   ],
   "source": [
    "# Ratio plot\n",
    "plt.switch_backend('agg')\n",
    "\n",
    "percentErr = []\n",
    "\n",
    "for i in range(len(comparison_points)):\n",
    "    percentErr.append( ((total[i]/comparison_points[i])-1))\n",
    "    \n",
    "plt.xlim(2500, 6700)\n",
    "\n",
    "plt.ylabel('strings/Anchordoqui')\n",
    "#plt.yticks(range(-1e-1, 9e-1, 1e-1))\n",
    "plt.ylim(0.4,1)\n",
    "plt.xlabel('Invariant Mass (GeV)')\n",
    "plt.grid(True, which='both', axis='y')\n",
    "plt.grid(True, which='both', axis='x')\n",
    "\n",
    "plt.plot(invariant_Mass, percentErr)\n",
    "\n",
    "plt.show()\n",
    "plt.savefig('ratio plot for 0.1 coupling.pdf',dpi=100,bbox_inches='tight')\n",
    "plt.clf()"
   ]
  },
  {
   "cell_type": "code",
   "execution_count": null,
   "metadata": {},
   "outputs": [],
   "source": [
    "###########################################################################################################################\n",
    "###########################################################################################################################\n",
    "###########################################################################################################################"
   ]
  },
  {
   "cell_type": "code",
   "execution_count": 479,
   "metadata": {},
   "outputs": [
    {
     "data": {
      "image/png": "[encoded data removed]",
      "text/plain": [
       "<Figure size 432x288 with 1 Axes>"
      ]
     },
     "metadata": {
      "needs_background": "light"
     },
     "output_type": "display_data"
    }
   ],
   "source": [
    "# Compare Q binning\n",
    "\n",
    "qBinsL1 = [1.30000E+00, 1.53865E+00, 1.84636E+00, 2.24885E+00, 2.78358E+00, 3.50602E+00,\n",
    " 4.50000E+00, 6.20054E+00, 8.81356E+00, 1.29625E+01, 1.97913E+01, 3.14839E+01,\n",
    " 5.23915E+01, 9.15982E+01, 1.69063E+02, 3.31152E+02, 6.92354E+02, 1.55489E+03,\n",
    " 3.77707E+03, 1.00000E+04]\n",
    "qBinsD = [1.30000E+00, 1.53106E+00, 1.83098E+00, 2.22659E+00, 2.75766E+00, 3.48439E+00,\n",
    " 4.50000E+00, 6.12359E+00, 8.60159E+00, 1.25127E+01, 1.89184E+01, 2.98475E+01,\n",
    " 4.93546E+01, 8.59491E+01, 1.58477E+02, 3.11214E+02, 6.55142E+02, 1.48904E+03,\n",
    " 3.68299E+03, 1.00000E+04]\n",
    "\n",
    "binNumber = [x for x in range(0, 20)]\n",
    "\n",
    "plt.switch_backend('agg')\n",
    "fig, ax = plt.subplots()\n",
    "ax.set_yscale('log')\n",
    "plt.ylim(1, 2e4)\n",
    "plt.xticks(range(0, 20, 1))\n",
    "plt.grid(True, which='both', axis='y')\n",
    "plt.grid(True, which='both', axis='x')\n",
    "\n",
    "plt.scatter(binNumber, qBinsL1, label ='CTEQ6L1', s=6)\n",
    "plt.scatter(binNumber, qBinsD, label ='CTEQ6D', s=6)\n",
    "\n",
    "plt.xlabel('Bins')\n",
    "plt.ylabel('Q')\n",
    "plt.legend(loc='upper left')\n",
    "plt.text(3, 2e2, 'Distance across y axis', fontsize=10, ha='center', va='center')\n",
    "plt.text(3, 1e2, 'represents bin size', fontsize=10, ha='center', va='center')\n",
    "\n",
    "plt.show()\n",
    "plt.savefig('qBins.pdf')\n",
    "\n"
   ]
  },
  {
   "cell_type": "code",
   "execution_count": 557,
   "metadata": {},
   "outputs": [
    {
     "name": "stdout",
     "output_type": "stream",
     "text": [
      "422\n"
     ]
    }
   ],
   "source": [
    "########################################################################################################################## \n",
    "# RATIO PLOT TO COMPARE BEFORE AND AFTER T-CHANNEL BUG FIX\n",
    "\n",
    "# Read the LHE lines.\n",
    "\n",
    "gg_file = open('./CrossFiles/ggCross5MsBUGFIX.txt', 'r')\n",
    "gq_file = open('./CrossFiles/gqCross5MsBUGFIX.txt', 'r')\n",
    "\n",
    "gg_lines = gg_file.readlines()\n",
    "gq_lines = gq_file.readlines()\n",
    "\n",
    "gg_file.close()\n",
    "gq_file.close()\n",
    "\n",
    "print(len(gg_lines))"
   ]
  },
  {
   "cell_type": "code",
   "execution_count": 547,
   "metadata": {},
   "outputs": [
    {
     "name": "stdout",
     "output_type": "stream",
     "text": [
      "0.00047641551452061876\n"
     ]
    }
   ],
   "source": [
    "# Make array with gg_cross.txt.\n",
    "\n",
    "gg_cross = []\n",
    "\n",
    "i = 0    # counter\n",
    "\n",
    "for line in enumerate(gg_lines):\n",
    "    gg_cross.append(line[1])\n",
    "    gg_cross[i] = float(gg_cross[i])\n",
    "    i = i + 1\n",
    "    \n",
    "print(gg_cross[0])"
   ]
  },
  {
   "cell_type": "code",
   "execution_count": 548,
   "metadata": {},
   "outputs": [
    {
     "name": "stdout",
     "output_type": "stream",
     "text": [
      "0.00047641551452061876\n"
     ]
    }
   ],
   "source": [
    "# Make array with gq_cross.txt\n",
    "\n",
    "spaces = []       # where the spaces are in each line.       \n",
    "first, second, third, fourth, fifth, sixth = [], [], [], [], [], []         # the cross section for each quark flavour.\n",
    "\n",
    "gq_cross = []\n",
    "\n",
    "for line in enumerate(gq_lines):\n",
    "\n",
    "    for i in range(len(line[1])):\n",
    "\n",
    "        if line[1][i] == ' ':\n",
    "\n",
    "            spaces.append(i)\n",
    "        \n",
    "i = 0                # counter\n",
    "\n",
    "while i < (len(spaces)): \n",
    "    \n",
    "    first.append(spaces[i]) \n",
    "    second.append(spaces[i+1]) \n",
    "    third.append(spaces[i+2]) \n",
    "    fourth.append(spaces[i+3]) \n",
    "    fifth.append(spaces[i+4]) \n",
    "    sixth.append(spaces[i+5]) \n",
    "    \n",
    "    i = i + 6\n",
    "\n",
    "q1, q2, q3, q4, q5 = [], [], [], [], []\n",
    "\n",
    "i = 0                # counter\n",
    "\n",
    "for line in enumerate(gq_lines): \n",
    "    \n",
    "    q1.append(line[1][0 : first[i]])\n",
    "    q1[i] = float(q1[i])\n",
    "    \n",
    "    q2.append(line[1][first[i]+1 : second[i]])\n",
    "    q2[i] = float(q2[i])\n",
    "    \n",
    "    q3.append(line[1][second[i]+1 : third[i]])\n",
    "    q3[i] = float(q3[i])\n",
    "    \n",
    "    q4.append(line[1][third[i]+1 : fourth[i]])\n",
    "    q4[i] = float(q4[i])\n",
    "    \n",
    "    q5.append(line[1][fourth[i]+1 : fifth[i]])\n",
    "    q5[i] = float(q5[i])\n",
    " \n",
    "    gq_cross.append(q1[i] + q2[i] + q3[i] + q4[i] + q5[i])\n",
    "\n",
    "    i = i + 1\n",
    "    \n",
    "print(gg_cross[0])"
   ]
  },
  {
   "cell_type": "code",
   "execution_count": 550,
   "metadata": {},
   "outputs": [],
   "source": [
    "# Make the total array\n",
    "\n",
    "totalBF = []\n",
    "\n",
    "for i in range(len(gg_cross)):\n",
    "    totalBF.append(gg_cross[i] + gq_cross[i])"
   ]
  },
  {
   "cell_type": "code",
   "execution_count": 558,
   "metadata": {},
   "outputs": [],
   "source": [
    "# Find ratios \n",
    "\n",
    "ratio = []\n",
    "\n",
    "for i in range(len(totalBF)):\n",
    "    ratio.append(totalBF[i]/total[i])\n",
    "\n",
    "# print(ratio)"
   ]
  },
  {
   "cell_type": "code",
   "execution_count": 553,
   "metadata": {},
   "outputs": [
    {
     "data": {
      "text/plain": [
       "<Figure size 432x288 with 0 Axes>"
      ]
     },
     "metadata": {},
     "output_type": "display_data"
    }
   ],
   "source": [
    "plt.xlim(2500, 6700)\n",
    "plt.ylim(-50, 50)\n",
    "\n",
    "plt.ylabel('% Error: After Fix/Before')\n",
    "plt.yticks(range(-10, 90, 10))\n",
    "plt.xlabel('Invariant Mass (GeV)')\n",
    "plt.grid(True, which='both', axis='y')\n",
    "plt.grid(True, which='both', axis='x')\n",
    "\n",
    "plt.plot(invariant_Mass, ratio)\n",
    "\n",
    "plt.show()\n",
    "plt.savefig('ratio plot for bugfix.pdf',dpi=100,bbox_inches='tight')\n",
    "plt.clf()"
   ]
  }
 ],
 "metadata": {
  "kernelspec": {
   "display_name": "Python 3",
   "language": "python",
   "name": "python3"
  },
  "language_info": {
   "codemirror_mode": {
    "name": "ipython",
    "version": 3
   },
   "file_extension": ".py",
   "mimetype": "text/x-python",
   "name": "python",
   "nbconvert_exporter": "python",
   "pygments_lexer": "ipython3",
   "version": "3.6.8"
  }
 },
 "nbformat": 4,
 "nbformat_minor": 2
}
