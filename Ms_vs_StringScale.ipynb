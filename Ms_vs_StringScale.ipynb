{
 "cells": [
  {
   "cell_type": "code",
   "execution_count": 85,
   "metadata": {},
   "outputs": [],
   "source": [
    "# IMPORTING PACKAGES\n",
    "\n",
    "import numpy as np                                # import packages and give them quick handles since they will be used often\n",
    "import matplotlib.pyplot as plt\n",
    "import matplotlib.ticker as plticker\n",
    "from scipy import optimize\n",
    "import pandas as pd\n",
    "import math"
   ]
  },
  {
   "cell_type": "code",
   "execution_count": 224,
   "metadata": {},
   "outputs": [],
   "source": [
    "# INITIALIZE ARRAYS: INVARIANT MASS INTERVAL 1-14 TeV, sqrt{s} = 14 TeV\n",
    "\n",
    "Ms = [1, 2, 3, 4]\n",
    "gg2gGamma = [5.072e+03, 1.875e+02, 8.596e+00, 6.099e-01]"
   ]
  },
  {
   "cell_type": "code",
   "execution_count": 226,
   "metadata": {},
   "outputs": [
    {
     "name": "stderr",
     "output_type": "stream",
     "text": [
      "No handles with labels found to put in legend.\n"
     ]
    },
    {
     "data": {
      "image/png": "[encoded data removed]",
      "text/plain": [
       "<Figure size 432x288 with 1 Axes>"
      ]
     },
     "metadata": {
      "needs_background": "light"
     },
     "output_type": "display_data"
    }
   ],
   "source": [
    "# MAKE SCATTER PLOTS FOR [1, 4] TEV \n",
    "\n",
    "fig, ax = plt.subplots()\n",
    "ax.set_yscale('log')\n",
    "plt.xlim(1, 4)\n",
    "plt.ylim(1e-1, 1e4)\n",
    "\n",
    "plt.plot(Ms, gg2gGamma, 'o', color = 'red')\n",
    "# plt.plot(Ms, gq2qGamma, 'o', color = 'blue')\n",
    "# plt.plot(Ms, both, 'o', color = 'green')\n",
    "\n",
    "gg_parms = np.polyfit(Ms, gg2gGamma, 2)\n",
    "# gq_parms = np.polyfit(Ms, gq2qGamma, 4)\n",
    "# both_parms = np.polyfit(Ms, both, 4)\n",
    "\n",
    "# Msx = np.linspace(min(Ms), max(Ms), 100)\n",
    "# gg_fit = np.polyval(gg_parms, Msx)\n",
    "# gq_fit = np.polyval(gq_parms, Ms)\n",
    "# both_fit = np.polyval(both_parms, Ms)\n",
    "\n",
    "# plt.plot(Msx, gg_fit, label = 'gg2gGamma', color = 'red', )\n",
    "# plt.plot(Ms, gq_fit, label = 'gq2qGamma', color = 'blue')\n",
    "# plt.plot(Ms, both_fit, label = 'total', color = 'green')\n",
    "\n",
    "plt.xlabel('String Scale M_{s} (TeV)')\n",
    "plt.ylabel('Cross-section (fb)')\n",
    "plt.legend(loc='upper right')\n",
    "\n",
    "plt.grid(True, which='both', axis='y')\n",
    "plt.grid(True, which='both', axis='x')\n",
    "\n",
    "plt.text(3, 1e2, 'M = [$M_{low}$, 14 TeV]', fontsize=10, ha='center', va='center')\n",
    "plt.text(3, 2.5e2, '$\\kappa^2$ = 0.02', fontsize = 10, ha='center', va='center')\n",
    "plt.text(3, 7e2, '|y| < 2.4', fontsize = 10, ha='center', va='center')\n",
    "\n",
    "plt.show()"
   ]
  },
  {
   "cell_type": "code",
   "execution_count": 217,
   "metadata": {},
   "outputs": [
    {
     "name": "stdout",
     "output_type": "stream",
     "text": [
      "300.0\n",
      "3400.0 4600.0\n"
     ]
    }
   ],
   "source": [
    "a = 4000*0.1*3/4\n",
    "print(a)\n",
    "print(4000-2*a, 4000+2*a)"
   ]
  }
 ],
 "metadata": {
  "kernelspec": {
   "display_name": "Python 3",
   "language": "python",
   "name": "python3"
  },
  "language_info": {
   "codemirror_mode": {
    "name": "ipython",
    "version": 3
   },
   "file_extension": ".py",
   "mimetype": "text/x-python",
   "name": "python",
   "nbconvert_exporter": "python",
   "pygments_lexer": "ipython3",
   "version": "3.6.8"
  }
 },
 "nbformat": 4,
 "nbformat_minor": 2
}
