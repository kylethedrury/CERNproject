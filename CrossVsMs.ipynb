{
 "cells": [
  {
   "cell_type": "code",
   "execution_count": 3,
   "metadata": {},
   "outputs": [],
   "source": [
    "## IMPORTING PACKAGES\n",
    "\n",
    "import numpy as np                                # import packages and give them quick handles since they will be used often\n",
    "import matplotlib.pyplot as plt\n",
    "import matplotlib.ticker as plticker\n",
    "from scipy import optimize\n",
    "import pandas as pd\n",
    "import math"
   ]
  },
  {
   "cell_type": "code",
   "execution_count": 37,
   "metadata": {},
   "outputs": [],
   "source": [
    "# INITIALIZE ARRAYS\n",
    "\n",
    "Ms = [7,7.5,8,8.5,9]\n",
    "\n",
    "gg13 = [2.645e-02, 7.314e-03, 2.002e-03, 5.352e-04, 1.370e-04]   \n",
    "gq13 = [1.205e-01, 4.046e-02, 1.337e-02, 4.293e-03, 1.323e-03]\n",
    "\n",
    "gg136 = [4.196e-02, 1.230e-02, 3.579e-03, 1.025e-03, 2.858e-04]\n",
    "gq136 = [1.752e-01, 6.198e-02, 2.168e-02, 7.433e-03, 2.472e-03]\n",
    "\n",
    "total13, total136 = [], []\n",
    "\n",
    "for i in range(len(gg)):\n",
    "    total13.append(gg13[i] + gq13[i])\n",
    "    total136.append(gg136[i] + gq136[i])"
   ]
  },
  {
   "cell_type": "code",
   "execution_count": 6,
   "metadata": {},
   "outputs": [],
   "source": [
    "df = np.genfromtxt('./CSVs/Default Dataset.csv', delimiter=',')\n",
    "df_x, df_y = [], []\n",
    "\n",
    "for i in range(len(df)):\n",
    "    df_x.append(df[i][0])\n",
    "    df_y.append(df[i][1])"
   ]
  },
  {
   "cell_type": "code",
   "execution_count": 84,
   "metadata": {},
   "outputs": [],
   "source": [
    "# MAKE PLOT\n",
    "\n",
    "plt.switch_backend('agg')\n",
    "\n",
    "fig, ax = plt.subplots()\n",
    "ax.set_yscale('log')\n",
    "plt.xlim(6.8, 9.2)\n",
    "plt.ylim(1e-4, 3e-1)\n",
    "\n",
    "plt.plot(Ms, gg13, 'o', color='red', markersize=4)\n",
    "plt.plot(Ms, gg13, color='red', label='gg')\n",
    "\n",
    "plt.plot(Ms, gq13, 'o', color='blue', markersize=4)\n",
    "plt.plot(Ms, gq13, color='blue', label='gq')\n",
    "\n",
    "plt.plot(Ms, total13, 'o', color='green', markersize=4)\n",
    "plt.plot(Ms, total13, color='green', label='total')\n",
    "\n",
    "plt.xlabel('String Scale $M_{s}$ (TeV)')\n",
    "plt.ylabel('Total cross-section (fb)')\n",
    "plt.legend(loc='upper right')\n",
    "\n",
    "plt.grid(True, which='both', axis='y')\n",
    "plt.grid(True, which='both', axis='x')\n",
    "\n",
    "plt.text(7.25, 2.6e-3, '$\\sqrt{s}$ = 13 TeV', fontsize = 10, ha='center', va='center')\n",
    "plt.text(7.25, 1.5e-3, '|y| < 2.5', fontsize = 10, ha='center', va='center')\n",
    "plt.text(7.25, 9e-4, '$\\kappa^2$ = 0.02', fontsize=10, ha='center', va='center')\n",
    "\n",
    "plt.show()\n",
    "plt.savefig('13 TeV Cross vs Ms.pdf')\n",
    "plt.clf()"
   ]
  },
  {
   "cell_type": "code",
   "execution_count": 77,
   "metadata": {},
   "outputs": [],
   "source": [
    "# Compare 13 TeV and 13.6 TeV:\n",
    "\n",
    "plt.switch_backend('agg')\n",
    "\n",
    "fig, ax = plt.subplots()\n",
    "ax.set_yscale('log')\n",
    "plt.xlim(6.8, 9.2)\n",
    "\n",
    "plt.plot(Ms, total13, 'o', color='red', markersize=4)\n",
    "plt.plot(Ms, total13, color='red', label='13 TeV')\n",
    "\n",
    "plt.plot(Ms, total136, 'o', color='blue', markersize=4)\n",
    "plt.plot(Ms, total136, color='blue', label='13.6 TeV')\n",
    "\n",
    "plt.xlabel('String Scale $M_{s}$ (TeV)')\n",
    "plt.ylabel('Total cross-section (fb)')\n",
    "plt.legend(loc='upper right')\n",
    "\n",
    "plt.grid(True, which='both', axis='y')\n",
    "plt.grid(True, which='both', axis='x')\n",
    "\n",
    "plt.show()\n",
    "plt.savefig('13 vs 13.6.pdf')\n",
    "plt.clf()"
   ]
  },
  {
   "cell_type": "code",
   "execution_count": 80,
   "metadata": {},
   "outputs": [],
   "source": [
    "# Make N plot\n",
    "\n",
    "N = []\n",
    "x = [6.8, 9.2]\n",
    "y = [3, 3]\n",
    "\n",
    "for i in range(len(total13)):\n",
    "    N.append(140*total13[i] + 115*total136[i])\n",
    "        \n",
    "fig, ax = plt.subplots()\n",
    "ax.set_yscale('log')\n",
    "plt.xlim(6.8, 9.2)    \n",
    "\n",
    "plt.plot(Ms, N, 'o', markersize=5, color='blue')\n",
    "plt.plot(Ms, N, color='blue')\n",
    "plt.plot(x, y, color='magenta', linestyle='--')\n",
    "\n",
    "plt.text(7.4, 1.2, 'Run 2: 13.0 TeV, 140 fb$^{-1}$', fontsize = 10, ha='center', va='center')\n",
    "plt.text(7.4, 1.6, 'Run 3: 13.6 TeV, 115 fb$^{-1}$', fontsize = 10, ha='center', va='center')\n",
    "plt.xlabel('String Scale $M_{s}$ (TeV)')\n",
    "plt.ylabel('Number of Events')\n",
    "\n",
    "plt.grid(True, which='both', axis='y')\n",
    "plt.grid(True, which='both', axis='x')\n",
    "\n",
    "plt.show()\n",
    "plt.savefig('N plot.pdf')\n",
    "plt.clf()"
   ]
  },
  {
   "cell_type": "code",
   "execution_count": null,
   "metadata": {},
   "outputs": [],
   "source": [
    "###########################################################################################################################"
   ]
  },
  {
   "cell_type": "code",
   "execution_count": 70,
   "metadata": {},
   "outputs": [
    {
     "name": "stdout",
     "output_type": "stream",
     "text": [
      "The average percent deviation for data set 0 from the paper is 36.96944423650109\n",
      "The average percent deviation for data set 1 from the paper is 27.861353726926787\n",
      "The average percent deviation for data set 2 from the paper is 36.04101992870622\n",
      "The average percent deviation for data set 3 from the paper is 31.97243245902105\n",
      "The average percent deviation for data set 4 from the paper is 25.663406520206454\n",
      "The average percent deviation for data set 5 from the paper is 43.512229011590634\n"
     ]
    }
   ],
   "source": [
    "paper = [5352.681822847095, 719.6856730011514, 125.89254117941661, 29.60932939627084, 8.208914159638262, 2.2022019499873737, 0.7437527275659054]\n",
    "\n",
    "data = [J0_ycut_24, J0_ycut_1874, J0_ycut_10986, J2_ycut_24, J2_ycut_1874, J2_ycut_10986]\n",
    "\n",
    "for i in range(len(data)):\n",
    "    \n",
    "    sum = 0\n",
    "    \n",
    "    for j in range(len(data[i])):\n",
    "    \n",
    "        x = data[i][j]/paper[j]\n",
    "        \n",
    "        if x > 1:\n",
    "            \n",
    "            percent = x - 1\n",
    "            \n",
    "        else:\n",
    "        \n",
    "            percent = 1 - x\n",
    "        \n",
    "        sum = sum + percent\n",
    "    \n",
    "    print('The average percent deviation for data set', i, 'from the paper is', (sum/7)*100)"
   ]
  },
  {
   "cell_type": "code",
   "execution_count": 80,
   "metadata": {},
   "outputs": [
    {
     "name": "stdout",
     "output_type": "stream",
     "text": [
      "---\n",
      "For 1000 range is 910.0 1090.0\n",
      "y_cut is 0.9771840795092896\n",
      "---\n",
      "For 1500 range is 1365.0 1635.0\n",
      "y_cut is 1.4628929774890094\n",
      "---\n",
      "For 2000 range is 1820.0 2180.0\n",
      "y_cut is 1.7744592713734342\n",
      "---\n",
      "For 2500 range is 2275.0 2725.0\n",
      "y_cut is 2.008091706087281\n",
      "---\n",
      "For 3000 range is 2730.0 3270.0\n",
      "y_cut is 2.1959737758537834\n",
      "---\n",
      "For 3500 range is 3185.0 3815.0\n",
      "y_cut is 2.353432597212078\n",
      "---\n",
      "For 4000 range is 3640.0 4360.0\n",
      "y_cut is 2.489093554065656\n"
     ]
    }
   ],
   "source": [
    "# Calculating resonance widths and mass ranges for Ms steps  \n",
    "\n",
    "Ms = 1000\n",
    "\n",
    "while Ms <= 4000:\n",
    "    a = Ms*0.1*3/4     # J = 0\n",
    "    b = Ms*0.1*9/20    # J = 2\n",
    "    print('---')\n",
    "    print('For', Ms, 'range is', Ms-2*b, Ms+2*b)\n",
    "    print('y_cut is', np.arccosh((Ms-2*b)/(2*300)) )\n",
    "    Ms = Ms + 500"
   ]
  },
  {
   "cell_type": "markdown",
   "metadata": {},
   "source": []
  },
  {
   "cell_type": "code",
   "execution_count": 71,
   "metadata": {},
   "outputs": [
    {
     "name": "stdout",
     "output_type": "stream",
     "text": [
      "31 31\n"
     ]
    }
   ],
   "source": [
    "# Cross-sections for J = 2, y < 1.874 for Ms steps of 100 GeV\n",
    "\n",
    "Ms = [1, 1.1, 1.2, 1.3, 1.4, 1.5, 1.6, 1.7, 1.8, 1.9, 2, 2.1, 2.2, 2.3, 2.4, 2.5, 2.6, 2.7, 2.8, 2.9, 3, 3.1, 3.2, \\\n",
    "      3.3, 3.4, 3.5, 3.6, 3.7, 3.8, 3.9, 4]\n",
    "data = [8.779e3, 5.246e3, 3.231e3, 2.047e3, 1.325e3, 8.708e2, 5.858e2, 3.997e2, 2.766e2, 1.938e2, 1.367e2, 9.769e1, 7.050e1, \\\n",
    "        5.128e1, 3.754e1, 2.760e1, 2.048e1, 1.528e1, 1.146e1, 8.629, 6.516, 4.950, 3.775, 2.888, 2.216, 1.703, 1.314, 1.017, \\\n",
    "        7.883e-1, 6.125e-1, 4.762e-1]\n",
    "print(len(Ms), len(data))"
   ]
  },
  {
   "cell_type": "code",
   "execution_count": 84,
   "metadata": {},
   "outputs": [
    {
     "name": "stdout",
     "output_type": "stream",
     "text": [
      "[5321.508478744763, 705.9039291668615, 123.39887009198569, 29.177121336700154, 8.141430973416716, 2.180585350941169, 0.6712984879319299]\n",
      "7\n",
      "7\n"
     ]
    }
   ],
   "source": [
    "# Generate comparison points with the same x-coords\n",
    "\n",
    "df = np.genfromtxt('Default Dataset.csv', delimiter=',')\n",
    "df_x, df_y = [], []\n",
    "comparison_points = []\n",
    "\n",
    "for i in range(len(df)):\n",
    "    df_x.append(df[i][0])\n",
    "    df_y.append(df[i][1])\n",
    "\n",
    "for i in range(len(Ms_small)):\n",
    "    \n",
    "    for j in range(len(df_x)-1):\n",
    "        \n",
    "        if df_x[j] < Ms_small[i] and df_x[j+1] > Ms_small[i]:\n",
    "            comparison_points.append( (df_y[j]/df_x[j])*(Ms_small[i]-df_x[j+1]) + df_y[j+1] )\n",
    "            \n",
    "print(comparison_points)\n",
    "print(len(comparison_points))\n",
    "print(len(Ms_small))"
   ]
  },
  {
   "cell_type": "code",
   "execution_count": 88,
   "metadata": {},
   "outputs": [],
   "source": [
    "# Save the plot of the comparison points vs our data:\n",
    "\n",
    "plt.switch_backend('agg')\n",
    "\n",
    "fig, ax = plt.subplots()\n",
    "ax.set_yscale('log')\n",
    "plt.xlim(1, 4)\n",
    "plt.ylim(1e-1, 1e7)\n",
    "\n",
    "plt.plot(Ms_small, J2_ycut_24, color = 'green', label = 'Simulated Cross Section')\n",
    "plt.plot(Ms_small, comparison_points, linewidth=6, color='pink', alpha=0.7, label = 'Anchordoqui et al')\n",
    "\n",
    "plt.xlabel('String Scale $M_{s}$ (TeV)')\n",
    "plt.ylabel('Cross-section (fb)')\n",
    "plt.legend(loc='upper right')\n",
    "\n",
    "plt.grid(True, which='both', axis='y')\n",
    "plt.grid(True, which='both', axis='x')\n",
    "\n",
    "plt.text(1.75, 1, 'M = [$M_{s}-2\\Gamma^{J=2}_{g^{*}}, M_{s}+2\\Gamma^{J=2}_{g^{*}}$]', fontsize=10, ha='center', va='center')\n",
    "plt.text(1.75, 3.5, '$\\kappa^2$ = 0.02', fontsize = 10, ha='center', va='center')\n",
    "plt.text(1.75, 10.2, '$y_{cut}$ = 2.4', fontsize=10, ha='center', va='center')\n",
    "\n",
    "plt.show()\n",
    "plt.savefig('comparison_points.pdf')\n",
    "plt.clf()"
   ]
  },
  {
   "cell_type": "code",
   "execution_count": 91,
   "metadata": {},
   "outputs": [
    {
     "name": "stdout",
     "output_type": "stream",
     "text": [
      "[99.00372314163761, 43.645609282380235, 26.09515782762881, 6.07626312013807, -11.219538388266603, -14.105632270179703, -22.493494421104863]\n"
     ]
    }
   ],
   "source": [
    "# Save the ratio plot \n",
    "\n",
    "data = J2_ycut_24\n",
    "percentErr = []\n",
    "\n",
    "for i in range(len(data)):\n",
    "    x = (data[i]/comparison_points[i] - 1)*100\n",
    "    percentErr.append(x)\n",
    "        \n",
    "print(percentErr)\n",
    "\n",
    "plt.xlim(1, 4)\n",
    "plt.ylim(-100,100)\n",
    "\n",
    "plt.ylabel('% Error from Achordoqui et al')\n",
    "plt.xlabel('String Scale $M_{s}$')\n",
    "plt.grid(True, which='both', axis='y')\n",
    "plt.grid(True, which='both', axis='x')\n",
    "\n",
    "plt.plot(Ms_small, percentErr)\n",
    "\n",
    "plt.show()\n",
    "plt.savefig('ratio plot.pdf')\n",
    "plt.clf()"
   ]
  },
  {
   "cell_type": "code",
   "execution_count": 92,
   "metadata": {},
   "outputs": [
    {
     "name": "stdout",
     "output_type": "stream",
     "text": [
      "1.0986122886681096\n"
     ]
    }
   ],
   "source": [
    "# cosh calculator \n",
    "\n",
    "print(np.arccosh(1000/600))"
   ]
  }
 ],
 "metadata": {
  "kernelspec": {
   "display_name": "Python 3",
   "language": "python",
   "name": "python3"
  },
  "language_info": {
   "codemirror_mode": {
    "name": "ipython",
    "version": 3
   },
   "file_extension": ".py",
   "mimetype": "text/x-python",
   "name": "python",
   "nbconvert_exporter": "python",
   "pygments_lexer": "ipython3",
   "version": "3.6.8"
  }
 },
 "nbformat": 4,
 "nbformat_minor": 2
}
