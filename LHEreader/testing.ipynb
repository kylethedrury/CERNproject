{
 "cells": [
  {
   "cell_type": "code",
   "execution_count": 1,
   "metadata": {
    "collapsed": true,
    "ExecuteTime": {
     "end_time": "2023-08-14T06:46:40.770024400Z",
     "start_time": "2023-08-14T06:46:40.365497500Z"
    }
   },
   "outputs": [],
   "source": [
    "import csv\n",
    "import numpy as np\n",
    "import matplotlib.pyplot as plt\n",
    "import math as math\n",
    "import itertools\n",
    "import os"
   ]
  },
  {
   "cell_type": "code",
   "execution_count": 3,
   "outputs": [
    {
     "name": "stdout",
     "output_type": "stream",
     "text": [
      "1 10\n",
      "[ 1  2  3  4  5  6  7  8  9 10 11]\n",
      "11\n"
     ]
    },
    {
     "data": {
      "text/plain": "<Figure size 640x480 with 1 Axes>",
      "image/png": "[encoded data removed]"
     },
     "metadata": {},
     "output_type": "display_data"
    }
   ],
   "source": [
    "array = [1,2,3,4,5,6,7,8,9,10]\n",
    "\n",
    "bins = np.arange(min(array), max(array)+2, 1)\n",
    "print(min(array), max(array))\n",
    "print(bins)\n",
    "print(len(bins))\n",
    "\n",
    "fig, ax = plt.subplots()\n",
    "counts, bins, _ = ax.hist(array, bins=bins, color='white', edgecolor='red', alpha=1)\n",
    "\n",
    "plt.show()"
   ],
   "metadata": {
    "collapsed": false,
    "ExecuteTime": {
     "end_time": "2023-08-05T03:10:40.694932500Z",
     "start_time": "2023-08-05T03:10:40.541015400Z"
    }
   }
  },
  {
   "cell_type": "code",
   "execution_count": 2,
   "outputs": [],
   "source": [
    "x, y = [], []\n",
    "\n",
    "with open('Default Dataset.csv', newline='') as csvfile:\n",
    "    reader = csv.reader(csvfile)\n",
    "    for row in reader:\n",
    "        x.append(float(row[0]))\n",
    "        y.append(float(row[1]))"
   ],
   "metadata": {
    "collapsed": false,
    "ExecuteTime": {
     "end_time": "2023-08-14T06:46:43.268685200Z",
     "start_time": "2023-08-14T06:46:43.239577Z"
    }
   }
  },
  {
   "cell_type": "code",
   "execution_count": 3,
   "outputs": [],
   "source": [
    "Ms = [1, 1.5, 2, 2.5, 3, 3.5, 4]\n",
    "ggCross = [6.046e3, 1.235e3, 1.875e2, 3.714e1, 8.596, 2.217, 6.099e-1]\n",
    "ggCross2 = [6.567e3, 1.429e3, 2.228e2, 4.505e1, 1.059e1, 2.770, 7.701e-1]\n",
    "ggCross3 = [6.567e03, 1.429e3, 2.228e2, 4.505e1, 1.059e1, 2.770, 2.701e-1]\n",
    "data = [5829.41534713605, 765, 136, 31, 8.1, 2.3, 0.6731703824144982]"
   ],
   "metadata": {
    "collapsed": false,
    "ExecuteTime": {
     "end_time": "2023-08-14T06:46:44.453016400Z",
     "start_time": "2023-08-14T06:46:44.423704300Z"
    }
   }
  },
  {
   "cell_type": "code",
   "execution_count": 4,
   "outputs": [
    {
     "name": "stderr",
     "output_type": "stream",
     "text": [
      "C:\\Users\\kylem\\AppData\\Local\\Temp\\ipykernel_21628\\3373317239.py:21: UserWarning: Matplotlib is currently using agg, which is a non-GUI backend, so cannot show the figure.\n",
      "  plt.show()\n"
     ]
    }
   ],
   "source": [
    "plt.switch_backend('agg')\n",
    "\n",
    "fig, ax = plt.subplots()\n",
    "plt.xlim(1, 4)\n",
    "plt.ylim(1e-1, 1e4)\n",
    "ax.set_yscale('log')\n",
    "\n",
    "plt.plot(x, y, label = 'Anchordoqui et al', color = 'red', alpha=0.5, linewidth=3)\n",
    "plt.plot(Ms, ggCross2, label = 'STRINGS', color = 'green', linewidth=0.75)\n",
    "plt.plot(Ms, ggCross2, 'o', label = 'STRINGS', color = 'green', markersize=4)\n",
    "\n",
    "plt.xlabel(r'$M_{s}$ [TeV]')\n",
    "plt.ylabel(r'$\\sigma$ [fb]')\n",
    "plt.legend(loc='upper right')\n",
    "plt.grid(True, which='both', axis='y')\n",
    "plt.grid(True, which='both', axis='x')\n",
    "\n",
    "plt.text(1.5, 4e-1, '$\\sqrt{s}$ = 14 TeV', fontsize=10, ha='center', va='center')\n",
    "plt.text(1.5, 9e-1, '$\\kappa^2$ = 0.02', fontsize = 10, ha='center', va='center')\n",
    "\n",
    "plt.show()\n",
    "plt.savefig('latest3.pdf')\n",
    "plt.clf()"
   ],
   "metadata": {
    "collapsed": false,
    "ExecuteTime": {
     "end_time": "2023-08-14T06:46:47.694318200Z",
     "start_time": "2023-08-14T06:46:47.219085500Z"
    }
   }
  },
  {
   "cell_type": "code",
   "execution_count": 9,
   "outputs": [
    {
     "name": "stderr",
     "output_type": "stream",
     "text": [
      "C:\\Users\\kylem\\AppData\\Local\\Temp\\ipykernel_23304\\107374427.py:16: UserWarning: Matplotlib is currently using agg, which is a non-GUI backend, so cannot show the figure.\n",
      "  plt.show()\n"
     ]
    }
   ],
   "source": [
    "plt.switch_backend('agg')\n",
    "ratio = []\n",
    "\n",
    "for i in range(len(Ms)):\n",
    "    ratio.append(ggCross[i]/data[i])\n",
    "\n",
    "fig, ax = plt.subplots()\n",
    "plt.xlim(0.8, 4.2)\n",
    "\n",
    "plt.plot(Ms, ratio, 'o', color = 'green', markersize=4)\n",
    "plt.xlabel(r'$M_{s}$ [TeV]')\n",
    "plt.ylabel('data / Anchordoqui')\n",
    "plt.grid(True, which='both', axis='y')\n",
    "plt.grid(True, which='both', axis='x')\n",
    "\n",
    "plt.show()\n",
    "plt.savefig('latest2_ratio.pdf')\n",
    "plt.clf()"
   ],
   "metadata": {
    "collapsed": false,
    "ExecuteTime": {
     "end_time": "2023-08-09T18:15:01.504377Z",
     "start_time": "2023-08-09T18:15:01.420824100Z"
    }
   }
  }
 ],
 "metadata": {
  "kernelspec": {
   "display_name": "Python 3",
   "language": "python",
   "name": "python3"
  },
  "language_info": {
   "codemirror_mode": {
    "name": "ipython",
    "version": 2
   },
   "file_extension": ".py",
   "mimetype": "text/x-python",
   "name": "python",
   "nbconvert_exporter": "python",
   "pygments_lexer": "ipython2",
   "version": "2.7.6"
  }
 },
 "nbformat": 4,
 "nbformat_minor": 0
}
