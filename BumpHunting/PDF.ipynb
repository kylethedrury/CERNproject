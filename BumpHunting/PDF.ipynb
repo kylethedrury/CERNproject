{
 "cells": [
  {
   "cell_type": "code",
   "execution_count": 56,
   "metadata": {},
   "outputs": [],
   "source": [
    "# Importing packages.\n",
    "\n",
    "import math as math\n",
    "import numpy as np\n",
    "import matplotlib.pyplot as plt\n",
    "import csv\n",
    "import pandas as pd"
   ]
  },
  {
   "cell_type": "code",
   "execution_count": 57,
   "metadata": {},
   "outputs": [],
   "source": [
    "# Read files\n",
    "\n",
    "D_file = open('./PDFs/CTEQ6D.txt', 'r')\n",
    "L1_file = open('./PDFs/CTEQ6L1.txt', 'r')\n",
    "\n",
    "D_lines = D_file.readlines()\n",
    "L1_lines = L1_file.readlines()\n",
    "\n",
    "D_file.close()\n",
    "L1_file.close()"
   ]
  },
  {
   "cell_type": "code",
   "execution_count": 58,
   "metadata": {},
   "outputs": [],
   "source": [
    "# Declare bin boundaries \n",
    "\n",
    "QdivD = [ 1.30000E+00, 1.53106E+00, 1.83098E+00, 2.22659E+00, 2.75766E+00, 3.48439E+00,\n",
    " 4.50000E+00, 6.12359E+00, 8.60159E+00, 1.25127E+01, 1.89184E+01, 2.98475E+01,\n",
    " 4.93546E+01, 8.59491E+01, 1.58477E+02, 3.11214E+02, 6.55142E+02, 1.48904E+03,\n",
    " 3.68299E+03, 1.00000E+04]\n",
    "QdivL1 = [ 1.30000E+00, 1.53865E+00, 1.84636E+00, 2.24885E+00, 2.78358E+00, 3.50602E+00,\n",
    " 4.50000E+00, 6.20054E+00, 8.81356E+00, 1.29625E+01, 1.97913E+01, 3.14839E+01,\n",
    " 5.23915E+01, 9.15982E+01, 1.69063E+02, 3.31152E+02, 6.92354E+02, 1.55489E+03,\n",
    " 3.77707E+03, 1.00000E+04]\n",
    "\n",
    "xDivD = [0.00000E+00, 1.00000E-06, 1.28121E-06, 1.64152E-06, 2.10317E-06, 2.69463E-06,\n",
    " 3.45242E-06, 4.42329E-06, 5.66715E-06, 7.26076E-06, 9.30241E-06, 1.19180E-05,\n",
    " 1.52689E-05, 1.95617E-05, 2.50609E-05, 3.21053E-05, 4.11287E-05, 5.26863E-05,\n",
    " 6.74889E-05, 8.64459E-05, 1.10720E-04, 1.41800E-04, 1.81585E-04, 2.32503E-04,\n",
    " 2.97652E-04, 3.80981E-04, 4.87518E-04, 6.26039E-04, 8.00452E-04, 1.02297E-03,\n",
    " 1.30657E-03, 1.66759E-03, 2.12729E-03, 2.71054E-03, 3.44865E-03, 4.37927E-03,\n",
    " 5.54908E-03, 7.01192E-03, 8.83064E-03, 1.10763E-02, 1.38266E-02, 1.71641E-02,\n",
    " 2.11717E-02, 2.59364E-02, 3.15062E-02, 3.79623E-02, 4.53425E-02, 5.36750E-02,\n",
    " 6.29705E-02, 7.32221E-02, 8.44039E-02, 9.64793E-02, 1.09332E-01, 1.23067E-01,\n",
    " 1.37507E-01, 1.52639E-01, 1.68416E-01, 1.84794E-01, 2.01731E-01, 2.19016E-01,\n",
    " 2.36948E-01, 2.55242E-01, 2.73927E-01, 2.92954E-01, 3.12340E-01, 3.32036E-01,\n",
    " 3.52019E-01, 3.72282E-01, 3.92772E-01, 4.13533E-01, 4.34326E-01, 4.55495E-01,\n",
    " 4.76836E-01, 4.98342E-01, 5.20006E-01, 5.41818E-01, 5.63773E-01, 5.85861E-01,\n",
    " 6.08077E-01, 6.30459E-01, 6.52800E-01, 6.75387E-01, 6.98063E-01, 7.20830E-01,\n",
    " 7.43683E-01, 7.66623E-01, 7.89636E-01, 8.12791E-01, 8.35940E-01, 8.59175E-01,\n",
    " 8.82485E-01, 9.05866E-01, 9.29311E-01, 9.52817E-01, 9.76387E-01, 1.00000E+00]\n",
    "\n",
    "xDivL1 = [0.00000E+00, 1.00000E-06, 1.28121E-06, 1.64152E-06, 2.10317E-06, 2.69463E-06,\n",
    " 3.45242E-06, 4.42329E-06, 5.66715E-06, 7.26076E-06, 9.30241E-06, 1.19180E-05,\n",
    " 1.52689E-05, 1.95617E-05, 2.50609E-05, 3.21053E-05, 4.11287E-05, 5.26863E-05,\n",
    " 6.74889E-05, 8.64459E-05, 1.10720E-04, 1.41800E-04, 1.81585E-04, 2.32503E-04,\n",
    " 2.97652E-04, 3.80981E-04, 4.87518E-04, 6.26039E-04, 8.00452E-04, 1.02297E-03,\n",
    " 1.30657E-03, 1.66759E-03, 2.12729E-03, 2.71054E-03, 3.44865E-03, 4.37927E-03,\n",
    " 5.54908E-03, 7.01192E-03, 8.83064E-03, 1.10763E-02, 1.38266E-02, 1.71641E-02,\n",
    " 2.11717E-02, 2.59364E-02, 3.15062E-02, 3.79623E-02, 4.53425E-02, 5.36750E-02,\n",
    " 6.29705E-02, 7.32221E-02, 8.44039E-02, 9.64793E-02, 1.09332E-01, 1.23067E-01,\n",
    " 1.37507E-01, 1.52639E-01, 1.68416E-01, 1.84794E-01, 2.01731E-01, 2.19016E-01,\n",
    " 2.36948E-01, 2.55242E-01, 2.73927E-01, 2.92954E-01, 3.12340E-01, 3.32036E-01,\n",
    " 3.52019E-01, 3.72282E-01, 3.92772E-01, 4.13533E-01, 4.34326E-01, 4.55495E-01,\n",
    " 4.76836E-01, 4.98342E-01, 5.20006E-01, 5.41818E-01, 5.63773E-01, 5.85861E-01,\n",
    " 6.08077E-01, 6.30459E-01, 6.52800E-01, 6.75387E-01, 6.98063E-01, 7.20830E-01,\n",
    " 7.43683E-01, 7.66623E-01, 7.89636E-01, 8.12791E-01, 8.35940E-01, 8.59175E-01,\n",
    " 8.82485E-01, 9.05866E-01, 9.29311E-01, 9.52817E-01, 9.76387E-01, 1.00000E+00]"
   ]
  },
  {
   "cell_type": "code",
   "execution_count": 59,
   "metadata": {},
   "outputs": [
    {
     "name": "stdout",
     "output_type": "stream",
     "text": [
      "15360 15360\n"
     ]
    }
   ],
   "source": [
    "# Read in values from files, we have 2 15360-value arrays \n",
    "\n",
    "Dtable = []\n",
    "L1table = []\n",
    "\n",
    "for line in enumerate(D_lines):\n",
    "    Dtable.append(line[1][3:14])\n",
    "    Dtable.append(line[1][17:28])\n",
    "    Dtable.append(line[1][31:42])\n",
    "    Dtable.append(line[1][45:56])\n",
    "    Dtable.append(line[1][59:70])\n",
    "    \n",
    "for line in enumerate(L1_lines):\n",
    "    L1table.append(line[1][3:14])\n",
    "    L1table.append(line[1][17:28])\n",
    "    L1table.append(line[1][31:42])\n",
    "    L1table.append(line[1][45:56])\n",
    "    L1table.append(line[1][59:70])    \n",
    "    \n",
    "print(len(Dtable), len(L1table))\n",
    "\n",
    "#for i in range(len(Dtable)):\n",
    "#    print(Dtable[i], i)"
   ]
  },
  {
   "cell_type": "code",
   "execution_count": 60,
   "metadata": {},
   "outputs": [],
   "source": [
    "# Convert to floats. \n",
    "\n",
    "for i in range(len(Dtable)):\n",
    "    Dtable[i] = float(Dtable[i])\n",
    "    L1table[i] = float(L1table[i])\n",
    "    \n",
    "# make sure there are no zeroes\n",
    "\n",
    "for i in range(len(Dtable)):\n",
    "    if Dtable[i] == 0:\n",
    "        Dtable[i] == 1e-20\n",
    "    if Ltable[i] == 0:\n",
    "        ltable[i] == 1e-20"
   ]
  },
  {
   "cell_type": "code",
   "execution_count": 93,
   "metadata": {},
   "outputs": [
    {
     "name": "stdout",
     "output_type": "stream",
     "text": [
      "[[1, 2, 3, 4, 5, 6, 7, 8, 9, 10, 11, 12, 13, 14, 15, 16, 17, 18, 19, 20, 21, 22, 23, 24, 25, 26, 27, 28, 29, 30, 31, 32, 33, 34, 35, 36, 37, 38, 39, 40, 41, 42, 43, 44, 45, 46, 47, 48, 49, 50, 51, 52, 53, 54, 55, 56, 57, 58, 59, 60, 61, 62, 63, 64, 65, 66, 67, 68, 69, 70, 71, 72, 73, 74, 75, 76, 77, 78, 79, 80, 81, 82, 83, 84, 85, 86, 87, 88, 89, 90, 91, 92, 93, 94, 95, 96], [1, 2, 3, 4, 5, 6, 7, 8, 9, 10, 11, 12, 13, 14, 15, 16, 17, 18, 19, 20, 21, 22, 23, 24, 25, 26, 27, 28, 29, 30, 31, 32, 33, 34, 35, 36, 37, 38, 39, 40, 41, 42, 43, 44, 45, 46, 47, 48, 49, 50, 51, 52, 53, 54, 55, 56, 57, 58, 59, 60, 61, 62, 63, 64, 65, 66, 67, 68, 69, 70, 71, 72, 73, 74, 75, 76, 77, 78, 79, 80, 81, 82, 83, 84, 85, 86, 87, 88, 89, 90, 91, 92, 93, 94, 95, 96], [1, 2, 3, 4, 5, 6, 7, 8, 9, 10, 11, 12, 13, 14, 15, 16, 17, 18, 19, 20, 21, 22, 23, 24, 25, 26, 27, 28, 29, 30, 31, 32, 33, 34, 35, 36, 37, 38, 39, 40, 41, 42, 43, 44, 45, 46, 47, 48, 49, 50, 51, 52, 53, 54, 55, 56, 57, 58, 59, 60, 61, 62, 63, 64, 65, 66, 67, 68, 69, 70, 71, 72, 73, 74, 75, 76, 77, 78, 79, 80, 81, 82, 83, 84, 85, 86, 87, 88, 89, 90, 91, 92, 93, 94, 95, 96], [1, 2, 3, 4, 5, 6, 7, 8, 9, 10, 11, 12, 13, 14, 15, 16, 17, 18, 19, 20, 21, 22, 23, 24, 25, 26, 27, 28, 29, 30, 31, 32, 33, 34, 35, 36, 37, 38, 39, 40, 41, 42, 43, 44, 45, 46, 47, 48, 49, 50, 51, 52, 53, 54, 55, 56, 57, 58, 59, 60, 61, 62, 63, 64, 65, 66, 67, 68, 69, 70, 71, 72, 73, 74, 75, 76, 77, 78, 79, 80, 81, 82, 83, 84, 85, 86, 87, 88, 89, 90, 91, 92, 93, 94, 95, 96], [1, 2, 3, 4, 5, 6, 7, 8, 9, 10, 11, 12, 13, 14, 15, 16, 17, 18, 19, 20, 21, 22, 23, 24, 25, 26, 27, 28, 29, 30, 31, 32, 33, 34, 35, 36, 37, 38, 39, 40, 41, 42, 43, 44, 45, 46, 47, 48, 49, 50, 51, 52, 53, 54, 55, 56, 57, 58, 59, 60, 61, 62, 63, 64, 65, 66, 67, 68, 69, 70, 71, 72, 73, 74, 75, 76, 77, 78, 79, 80, 81, 82, 83, 84, 85, 86, 87, 88, 89, 90, 91, 92, 93, 94, 95, 96], [1, 2, 3, 4, 5, 6, 7, 8, 9, 10, 11, 12, 13, 14, 15, 16, 17, 18, 19, 20, 21, 22, 23, 24, 25, 26, 27, 28, 29, 30, 31, 32, 33, 34, 35, 36, 37, 38, 39, 40, 41, 42, 43, 44, 45, 46, 47, 48, 49, 50, 51, 52, 53, 54, 55, 56, 57, 58, 59, 60, 61, 62, 63, 64, 65, 66, 67, 68, 69, 70, 71, 72, 73, 74, 75, 76, 77, 78, 79, 80, 81, 82, 83, 84, 85, 86, 87, 88, 89, 90, 91, 92, 93, 94, 95, 96], [1, 2, 3, 4, 5, 6, 7, 8, 9, 10, 11, 12, 13, 14, 15, 16, 17, 18, 19, 20, 21, 22, 23, 24, 25, 26, 27, 28, 29, 30, 31, 32, 33, 34, 35, 36, 37, 38, 39, 40, 41, 42, 43, 44, 45, 46, 47, 48, 49, 50, 51, 52, 53, 54, 55, 56, 57, 58, 59, 60, 61, 62, 63, 64, 65, 66, 67, 68, 69, 70, 71, 72, 73, 74, 75, 76, 77, 78, 79, 80, 81, 82, 83, 84, 85, 86, 87, 88, 89, 90, 91, 92, 93, 94, 95, 96], [1, 2, 3, 4, 5, 6, 7, 8, 9, 10, 11, 12, 13, 14, 15, 16, 17, 18, 19, 20, 21, 22, 23, 24, 25, 26, 27, 28, 29, 30, 31, 32, 33, 34, 35, 36, 37, 38, 39, 40, 41, 42, 43, 44, 45, 46, 47, 48, 49, 50, 51, 52, 53, 54, 55, 56, 57, 58, 59, 60, 61, 62, 63, 64, 65, 66, 67, 68, 69, 70, 71, 72, 73, 74, 75, 76, 77, 78, 79, 80, 81, 82, 83, 84, 85, 86, 87, 88, 89, 90, 91, 92, 93, 94, 95, 96]]\n",
      "[1, 2, 3, 4, 5, 6, 7, 8, 9, 10, 11, 12, 13, 14, 15, 16, 17, 18, 19, 20, 21, 22, 23, 24, 25, 26, 27, 28, 29, 30, 31, 32, 33, 34, 35, 36, 37, 38, 39, 40, 41, 42, 43, 44, 45, 46, 47, 48, 49, 50, 51, 52, 53, 54, 55, 56, 57, 58, 59, 60, 61, 62, 63, 64, 65, 66, 67, 68, 69, 70, 71, 72, 73, 74, 75, 76, 77, 78, 79, 80, 81, 82, 83, 84, 85, 86, 87, 88, 89, 90, 91, 92, 93, 94, 95, 96]\n"
     ]
    }
   ],
   "source": [
    "## Initialize the 3D array for CTEQ6D\n",
    "\n",
    "Q, X, P = 20, 96, 8   # Number of Q bins, X bins, and partons \n",
    "\n",
    "D1, D2, D3 = [], [], [x for x in range(1,97)]\n",
    "\n",
    "def create(a, b, c, A, B, C):\n",
    "    \n",
    "    for i in range(b):\n",
    "        B.append(C)\n",
    "        \n",
    "    for i in range(a):\n",
    "        A.append(B)\n",
    "\n",
    "    return A\n",
    "        \n",
    "create(Q, P, X, D1, D2, D3)  # 1st index, second index, third index along with arrays\n",
    "\n",
    "print(D1[0])\n",
    "print(D1[0][0])"
   ]
  },
  {
   "cell_type": "code",
   "execution_count": 94,
   "metadata": {},
   "outputs": [
    {
     "name": "stdout",
     "output_type": "stream",
     "text": [
      "       Energy  Momentum  Parton  CTEQ6D Value  CTEQ6L1 Value\n",
      "0           0         0       0  0.000000e+00   0.000000e+00\n",
      "1           0         1       0  0.000000e+00   0.000000e+00\n",
      "2           0         2       0  0.000000e+00   0.000000e+00\n",
      "3           0         3       0  0.000000e+00   0.000000e+00\n",
      "4           0         4       0  0.000000e+00   0.000000e+00\n",
      "...       ...       ...     ...           ...            ...\n",
      "15355      19        91       7  7.801880e-07   8.742350e-07\n",
      "15356      19        92       7  2.136340e-07   1.869590e-07\n",
      "15357      19        93       7  4.960090e-08   2.923390e-08\n",
      "15358      19        94       7  7.902160e-09   2.653840e-09\n",
      "15359      19        95       7  0.000000e+00   0.000000e+00\n",
      "\n",
      "[15360 rows x 5 columns]\n"
     ]
    }
   ],
   "source": [
    "# Arrays for datafram:\n",
    "Dvalue, L1value, parton, momentumFrac, energy = [], [], [], [], []\n",
    "\n",
    "I = 0  # Counter\n",
    "\n",
    "for i in range(len(D1)):                          # first index\n",
    "        \n",
    "    for j in range(len(D1[i])):                      # second index\n",
    "            \n",
    "        for k in range(len(D1[i][j])):                        # number of bins for the last index\n",
    "\n",
    "            Dvalue.append(Dtable[I])\n",
    "            L1value.append(L1table[I])\n",
    "            parton.append(j)\n",
    "            momentumFrac.append(k)\n",
    "            energy.append(i)\n",
    "            I = I + 1 \n",
    "\n",
    "df = pd.DataFrame({'Energy': energy, 'Momentum': momentumFrac, 'Parton': parton, 'CTEQ6D Value': Dvalue, 'CTEQ6L1 Value': L1value})\n",
    "                \n",
    "print(df)\n",
    "\n",
    "df.to_csv('./PDFcsvs/QPX.csv', index=False)"
   ]
  },
  {
   "cell_type": "code",
   "execution_count": 107,
   "metadata": {},
   "outputs": [
    {
     "name": "stdout",
     "output_type": "stream",
     "text": [
      "96\n"
     ]
    }
   ],
   "source": [
    "# Making PDF plots for comparison\n",
    "\n",
    "qbin = 0\n",
    "\n",
    "array = df.values\n",
    "\n",
    "firstL, secondL, thirdL, fourthL, fifthL, sixthL, seventhL, eighthL = [], [], [], [], [], [], [], [] \n",
    "firstD, secondD, thirdD, fourthD, fifthD, sixthD, seventhD, eighthD = [], [], [], [], [], [], [], []\n",
    "xbins = [x for x in range(0,96)]\n",
    "\n",
    "for i in range(len(array)):\n",
    "    \n",
    "    if array[i][0] == qbin:\n",
    "        \n",
    "        if array[i][2] == 0:\n",
    "            firstD.append(array[i][3])\n",
    "            firstL.append(array[i][4])\n",
    "            \n",
    "        if array[i][2] == 1:\n",
    "            secondD.append(array[i][3])\n",
    "            secondL.append(array[i][4])\n",
    "            \n",
    "        if array[i][2] == 2:\n",
    "            thirdD.append(array[i][3])\n",
    "            thirdL.append(array[i][4])\n",
    "\n",
    "        if array[i][2] == 3:\n",
    "            fourthD.append(array[i][3])\n",
    "            fourthL.append(array[i][4])\n",
    "\n",
    "        if array[i][2] == 4:\n",
    "            fifthD.append(array[i][3])\n",
    "            fifthL.append(array[i][4])\n",
    "            \n",
    "        if array[i][2] == 5:\n",
    "            sixthD.append(array[i][3])\n",
    "            sixthL.append(array[i][4])\n",
    "            \n",
    "        if array[i][2] == 6:\n",
    "            seventhD.append(array[i][3])\n",
    "            seventhL.append(array[i][4])\n",
    "\n",
    "        if array[i][2] == 7:\n",
    "            eighthD.append(array[i][3])\n",
    "            eighthL.append(array[i][4])"
   ]
  },
  {
   "cell_type": "code",
   "execution_count": null,
   "metadata": {},
   "outputs": [],
   "source": [
    "plt.switch_backend('agg')\n",
    "\n",
    "fig, ax = plt.subplots()\n",
    "plt.xlim(1,96)\n",
    "ax.set_yscale('log')\n",
    "\n",
    "plt.xlabel('Momentum bin')\n",
    "plt.ylabel('PDF value')\n",
    "\n",
    "plt.grid(True, which='both', axis='y')\n",
    "plt.grid(True, which='both', axis='x')\n",
    "\n",
    "ax.plot(xbins, firstL, linestyle='-', color='red')\n",
    "ax.plot(xbins, secondL, linestyle='-', color='orange')\n",
    "ax.plot(xbins, thirdL, linestyle='-', color='yellow')\n",
    "ax.plot(xbins, fourthL, linestyle='-', color='green')\n",
    "ax.plot(xbins, fifthL, linestyle='-', color='cyan')\n",
    "ax.plot(xbins, sixthL, linestyle='-', color='blue')\n",
    "ax.plot(xbins, seventhL, linestyle='-', color='pruple')\n",
    "ax.plot(xbins, eighthL, linestyle='-', color='pink')"
   ]
  }
 ],
 "metadata": {
  "kernelspec": {
   "display_name": "Python 3",
   "language": "python",
   "name": "python3"
  },
  "language_info": {
   "codemirror_mode": {
    "name": "ipython",
    "version": 3
   },
   "file_extension": ".py",
   "mimetype": "text/x-python",
   "name": "python",
   "nbconvert_exporter": "python",
   "pygments_lexer": "ipython3",
   "version": "3.6.8"
  }
 },
 "nbformat": 4,
 "nbformat_minor": 2
}
